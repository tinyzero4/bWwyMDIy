{
 "cells": [
  {
   "cell_type": "code",
   "execution_count": 54,
   "id": "bbb2f45d-cc1e-46be-8632-6a8968954514",
   "metadata": {},
   "outputs": [],
   "source": [
    "import pandas as pd\n",
    "import numpy as np\n",
    "\n",
    "import matplotlib.pyplot as plt\n",
    "import seaborn as sns\n",
    "%matplotlib inline\n",
    "\n",
    "from sklearn.metrics import mutual_info_score\n",
    "from sklearn.metrics import roc_auc_score\n",
    "from sklearn.model_selection import train_test_split\n",
    "from sklearn.feature_extraction import DictVectorizer\n",
    "from sklearn.tree import DecisionTreeClassifier\n",
    "from sklearn.tree import export_text\n",
    "from sklearn.ensemble import RandomForestClassifier\n",
    "from sklearn.model_selection import KFold\n",
    "\n",
    "import xgboost as xgb\n",
    "from IPython.display import display\n",
    "from tqdm.auto import tqdm\n",
    "\n",
    "\n",
    "import warnings\n",
    "warnings.simplefilter(action='ignore', category=FutureWarning)"
   ]
  },
  {
   "cell_type": "markdown",
   "id": "ee29f30b-8947-44c0-b0a5-84ebce61bdea",
   "metadata": {},
   "source": [
    "# Load dataset"
   ]
  },
  {
   "cell_type": "code",
   "execution_count": 55,
   "id": "e2a63974-de63-45bd-a94e-b3e8f21a5073",
   "metadata": {},
   "outputs": [
    {
     "data": {
      "text/html": [
       "<div>\n",
       "<style scoped>\n",
       "    .dataframe tbody tr th:only-of-type {\n",
       "        vertical-align: middle;\n",
       "    }\n",
       "\n",
       "    .dataframe tbody tr th {\n",
       "        vertical-align: top;\n",
       "    }\n",
       "\n",
       "    .dataframe thead th {\n",
       "        text-align: right;\n",
       "    }\n",
       "</style>\n",
       "<table border=\"1\" class=\"dataframe\">\n",
       "  <thead>\n",
       "    <tr style=\"text-align: right;\">\n",
       "      <th></th>\n",
       "      <th>0</th>\n",
       "      <th>1</th>\n",
       "      <th>2</th>\n",
       "      <th>3</th>\n",
       "      <th>4</th>\n",
       "    </tr>\n",
       "  </thead>\n",
       "  <tbody>\n",
       "    <tr>\n",
       "      <th>neo_reference_id</th>\n",
       "      <td>3703080</td>\n",
       "      <td>3723955</td>\n",
       "      <td>2446862</td>\n",
       "      <td>3092506</td>\n",
       "      <td>3514799</td>\n",
       "    </tr>\n",
       "    <tr>\n",
       "      <th>name</th>\n",
       "      <td>3703080</td>\n",
       "      <td>3723955</td>\n",
       "      <td>2446862</td>\n",
       "      <td>3092506</td>\n",
       "      <td>3514799</td>\n",
       "    </tr>\n",
       "    <tr>\n",
       "      <th>absolute_magnitude</th>\n",
       "      <td>21.6</td>\n",
       "      <td>21.3</td>\n",
       "      <td>20.3</td>\n",
       "      <td>27.4</td>\n",
       "      <td>21.6</td>\n",
       "    </tr>\n",
       "    <tr>\n",
       "      <th>est_dia_in_km_min</th>\n",
       "      <td>0.12722</td>\n",
       "      <td>0.146068</td>\n",
       "      <td>0.231502</td>\n",
       "      <td>0.008801</td>\n",
       "      <td>0.12722</td>\n",
       "    </tr>\n",
       "    <tr>\n",
       "      <th>est_dia_in_km_max</th>\n",
       "      <td>0.284472</td>\n",
       "      <td>0.326618</td>\n",
       "      <td>0.517654</td>\n",
       "      <td>0.019681</td>\n",
       "      <td>0.284472</td>\n",
       "    </tr>\n",
       "    <tr>\n",
       "      <th>est_dia_in_m_min</th>\n",
       "      <td>127.219879</td>\n",
       "      <td>146.067964</td>\n",
       "      <td>231.502122</td>\n",
       "      <td>8.801465</td>\n",
       "      <td>127.219879</td>\n",
       "    </tr>\n",
       "    <tr>\n",
       "      <th>est_dia_in_m_max</th>\n",
       "      <td>284.472297</td>\n",
       "      <td>326.617897</td>\n",
       "      <td>517.654482</td>\n",
       "      <td>19.680675</td>\n",
       "      <td>284.472297</td>\n",
       "    </tr>\n",
       "    <tr>\n",
       "      <th>est_dia_in_miles_min</th>\n",
       "      <td>0.079051</td>\n",
       "      <td>0.090762</td>\n",
       "      <td>0.143849</td>\n",
       "      <td>0.005469</td>\n",
       "      <td>0.079051</td>\n",
       "    </tr>\n",
       "    <tr>\n",
       "      <th>est_dia_in_miles_max</th>\n",
       "      <td>0.176763</td>\n",
       "      <td>0.202951</td>\n",
       "      <td>0.321655</td>\n",
       "      <td>0.012229</td>\n",
       "      <td>0.176763</td>\n",
       "    </tr>\n",
       "    <tr>\n",
       "      <th>est_dia_in_feet_min</th>\n",
       "      <td>417.388066</td>\n",
       "      <td>479.22562</td>\n",
       "      <td>759.521423</td>\n",
       "      <td>28.876199</td>\n",
       "      <td>417.388066</td>\n",
       "    </tr>\n",
       "    <tr>\n",
       "      <th>est_dia_in_feet_max</th>\n",
       "      <td>933.308089</td>\n",
       "      <td>1071.581063</td>\n",
       "      <td>1698.341531</td>\n",
       "      <td>64.569144</td>\n",
       "      <td>933.308089</td>\n",
       "    </tr>\n",
       "    <tr>\n",
       "      <th>close_approach_date</th>\n",
       "      <td>1995-01-01 00:00:00</td>\n",
       "      <td>1995-01-01 00:00:00</td>\n",
       "      <td>1995-01-08 00:00:00</td>\n",
       "      <td>1995-01-15 00:00:00</td>\n",
       "      <td>1995-01-15 00:00:00</td>\n",
       "    </tr>\n",
       "    <tr>\n",
       "      <th>epoch_date_close_approach</th>\n",
       "      <td>788947200000</td>\n",
       "      <td>788947200000</td>\n",
       "      <td>789552000000</td>\n",
       "      <td>790156800000</td>\n",
       "      <td>790156800000</td>\n",
       "    </tr>\n",
       "    <tr>\n",
       "      <th>relative_velocity_km_per_sec</th>\n",
       "      <td>6.115834</td>\n",
       "      <td>18.113985</td>\n",
       "      <td>7.590711</td>\n",
       "      <td>11.173874</td>\n",
       "      <td>9.840831</td>\n",
       "    </tr>\n",
       "    <tr>\n",
       "      <th>relative_velocity_km_per_hr</th>\n",
       "      <td>22017.003799</td>\n",
       "      <td>65210.346095</td>\n",
       "      <td>27326.560182</td>\n",
       "      <td>40225.948191</td>\n",
       "      <td>35426.991794</td>\n",
       "    </tr>\n",
       "    <tr>\n",
       "      <th>miles_per_hour</th>\n",
       "      <td>13680.509944</td>\n",
       "      <td>40519.173105</td>\n",
       "      <td>16979.661798</td>\n",
       "      <td>24994.839864</td>\n",
       "      <td>22012.954985</td>\n",
       "    </tr>\n",
       "    <tr>\n",
       "      <th>miss_dist_astronomical</th>\n",
       "      <td>0.419483</td>\n",
       "      <td>0.383014</td>\n",
       "      <td>0.050956</td>\n",
       "      <td>0.285322</td>\n",
       "      <td>0.407832</td>\n",
       "    </tr>\n",
       "    <tr>\n",
       "      <th>miss_dist_lunar</th>\n",
       "      <td>163.178711</td>\n",
       "      <td>148.99263</td>\n",
       "      <td>19.82189</td>\n",
       "      <td>110.990387</td>\n",
       "      <td>158.646713</td>\n",
       "    </tr>\n",
       "    <tr>\n",
       "      <th>miss_dist_kilometers</th>\n",
       "      <td>62753692.0</td>\n",
       "      <td>57298148.0</td>\n",
       "      <td>7622911.5</td>\n",
       "      <td>42683616.0</td>\n",
       "      <td>61010824.0</td>\n",
       "    </tr>\n",
       "    <tr>\n",
       "      <th>miss_dist_miles</th>\n",
       "      <td>38993336.0</td>\n",
       "      <td>35603420.0</td>\n",
       "      <td>4736657.5</td>\n",
       "      <td>26522368.0</td>\n",
       "      <td>37910368.0</td>\n",
       "    </tr>\n",
       "    <tr>\n",
       "      <th>orbiting_body</th>\n",
       "      <td>Earth</td>\n",
       "      <td>Earth</td>\n",
       "      <td>Earth</td>\n",
       "      <td>Earth</td>\n",
       "      <td>Earth</td>\n",
       "    </tr>\n",
       "    <tr>\n",
       "      <th>orbit_id</th>\n",
       "      <td>17</td>\n",
       "      <td>21</td>\n",
       "      <td>22</td>\n",
       "      <td>7</td>\n",
       "      <td>25</td>\n",
       "    </tr>\n",
       "    <tr>\n",
       "      <th>orbit_determination_date</th>\n",
       "      <td>2017-04-06 08:36:37</td>\n",
       "      <td>2017-04-06 08:32:49</td>\n",
       "      <td>2017-04-06 09:20:19</td>\n",
       "      <td>2017-04-06 09:15:49</td>\n",
       "      <td>2017-04-06 08:57:58</td>\n",
       "    </tr>\n",
       "    <tr>\n",
       "      <th>orbit_uncertainity</th>\n",
       "      <td>5</td>\n",
       "      <td>3</td>\n",
       "      <td>0</td>\n",
       "      <td>6</td>\n",
       "      <td>1</td>\n",
       "    </tr>\n",
       "    <tr>\n",
       "      <th>minimum_orbit_intersection</th>\n",
       "      <td>0.025282</td>\n",
       "      <td>0.186935</td>\n",
       "      <td>0.043058</td>\n",
       "      <td>0.005512</td>\n",
       "      <td>0.034798</td>\n",
       "    </tr>\n",
       "    <tr>\n",
       "      <th>jupiter_tisserand_invariant</th>\n",
       "      <td>4.634</td>\n",
       "      <td>5.457</td>\n",
       "      <td>4.557</td>\n",
       "      <td>5.093</td>\n",
       "      <td>5.154</td>\n",
       "    </tr>\n",
       "    <tr>\n",
       "      <th>epoch_osculation</th>\n",
       "      <td>2458000.5</td>\n",
       "      <td>2458000.5</td>\n",
       "      <td>2458000.5</td>\n",
       "      <td>2458000.5</td>\n",
       "      <td>2458000.5</td>\n",
       "    </tr>\n",
       "    <tr>\n",
       "      <th>eccentricity</th>\n",
       "      <td>0.425549</td>\n",
       "      <td>0.351674</td>\n",
       "      <td>0.348248</td>\n",
       "      <td>0.216578</td>\n",
       "      <td>0.210448</td>\n",
       "    </tr>\n",
       "    <tr>\n",
       "      <th>semi_major_axis</th>\n",
       "      <td>1.407011</td>\n",
       "      <td>1.107776</td>\n",
       "      <td>1.458824</td>\n",
       "      <td>1.255903</td>\n",
       "      <td>1.225615</td>\n",
       "    </tr>\n",
       "    <tr>\n",
       "      <th>inclination</th>\n",
       "      <td>6.025981</td>\n",
       "      <td>28.412996</td>\n",
       "      <td>4.237961</td>\n",
       "      <td>7.905894</td>\n",
       "      <td>16.793382</td>\n",
       "    </tr>\n",
       "    <tr>\n",
       "      <th>asc_node_longitude</th>\n",
       "      <td>314.373913</td>\n",
       "      <td>136.717242</td>\n",
       "      <td>259.475979</td>\n",
       "      <td>57.173266</td>\n",
       "      <td>84.629307</td>\n",
       "    </tr>\n",
       "    <tr>\n",
       "      <th>orbital_period</th>\n",
       "      <td>609.599786</td>\n",
       "      <td>425.869294</td>\n",
       "      <td>643.580228</td>\n",
       "      <td>514.08214</td>\n",
       "      <td>495.597821</td>\n",
       "    </tr>\n",
       "    <tr>\n",
       "      <th>perihelion_distance</th>\n",
       "      <td>0.808259</td>\n",
       "      <td>0.7182</td>\n",
       "      <td>0.950791</td>\n",
       "      <td>0.983902</td>\n",
       "      <td>0.967687</td>\n",
       "    </tr>\n",
       "    <tr>\n",
       "      <th>perihelion_arg</th>\n",
       "      <td>57.25747</td>\n",
       "      <td>313.091975</td>\n",
       "      <td>248.415038</td>\n",
       "      <td>18.707701</td>\n",
       "      <td>158.263596</td>\n",
       "    </tr>\n",
       "    <tr>\n",
       "      <th>aphelion_dist</th>\n",
       "      <td>2.005764</td>\n",
       "      <td>1.497352</td>\n",
       "      <td>1.966857</td>\n",
       "      <td>1.527904</td>\n",
       "      <td>1.483543</td>\n",
       "    </tr>\n",
       "    <tr>\n",
       "      <th>perihelion_time</th>\n",
       "      <td>2458161.64172</td>\n",
       "      <td>2457794.969431</td>\n",
       "      <td>2458120.467549</td>\n",
       "      <td>2457902.337434</td>\n",
       "      <td>2457814.455149</td>\n",
       "    </tr>\n",
       "    <tr>\n",
       "      <th>mean_anomaly</th>\n",
       "      <td>264.837533</td>\n",
       "      <td>173.741112</td>\n",
       "      <td>292.893654</td>\n",
       "      <td>68.741007</td>\n",
       "      <td>135.142133</td>\n",
       "    </tr>\n",
       "    <tr>\n",
       "      <th>mean_motion</th>\n",
       "      <td>0.590551</td>\n",
       "      <td>0.84533</td>\n",
       "      <td>0.559371</td>\n",
       "      <td>0.700277</td>\n",
       "      <td>0.726395</td>\n",
       "    </tr>\n",
       "    <tr>\n",
       "      <th>equinox</th>\n",
       "      <td>J2000</td>\n",
       "      <td>J2000</td>\n",
       "      <td>J2000</td>\n",
       "      <td>J2000</td>\n",
       "      <td>J2000</td>\n",
       "    </tr>\n",
       "    <tr>\n",
       "      <th>hazardous</th>\n",
       "      <td>True</td>\n",
       "      <td>False</td>\n",
       "      <td>True</td>\n",
       "      <td>False</td>\n",
       "      <td>True</td>\n",
       "    </tr>\n",
       "  </tbody>\n",
       "</table>\n",
       "</div>"
      ],
      "text/plain": [
       "                                                0                    1  \\\n",
       "neo_reference_id                          3703080              3723955   \n",
       "name                                      3703080              3723955   \n",
       "absolute_magnitude                           21.6                 21.3   \n",
       "est_dia_in_km_min                         0.12722             0.146068   \n",
       "est_dia_in_km_max                        0.284472             0.326618   \n",
       "est_dia_in_m_min                       127.219879           146.067964   \n",
       "est_dia_in_m_max                       284.472297           326.617897   \n",
       "est_dia_in_miles_min                     0.079051             0.090762   \n",
       "est_dia_in_miles_max                     0.176763             0.202951   \n",
       "est_dia_in_feet_min                    417.388066            479.22562   \n",
       "est_dia_in_feet_max                    933.308089          1071.581063   \n",
       "close_approach_date           1995-01-01 00:00:00  1995-01-01 00:00:00   \n",
       "epoch_date_close_approach            788947200000         788947200000   \n",
       "relative_velocity_km_per_sec             6.115834            18.113985   \n",
       "relative_velocity_km_per_hr          22017.003799         65210.346095   \n",
       "miles_per_hour                       13680.509944         40519.173105   \n",
       "miss_dist_astronomical                   0.419483             0.383014   \n",
       "miss_dist_lunar                        163.178711            148.99263   \n",
       "miss_dist_kilometers                   62753692.0           57298148.0   \n",
       "miss_dist_miles                        38993336.0           35603420.0   \n",
       "orbiting_body                               Earth                Earth   \n",
       "orbit_id                                       17                   21   \n",
       "orbit_determination_date      2017-04-06 08:36:37  2017-04-06 08:32:49   \n",
       "orbit_uncertainity                              5                    3   \n",
       "minimum_orbit_intersection               0.025282             0.186935   \n",
       "jupiter_tisserand_invariant                 4.634                5.457   \n",
       "epoch_osculation                        2458000.5            2458000.5   \n",
       "eccentricity                             0.425549             0.351674   \n",
       "semi_major_axis                          1.407011             1.107776   \n",
       "inclination                              6.025981            28.412996   \n",
       "asc_node_longitude                     314.373913           136.717242   \n",
       "orbital_period                         609.599786           425.869294   \n",
       "perihelion_distance                      0.808259               0.7182   \n",
       "perihelion_arg                           57.25747           313.091975   \n",
       "aphelion_dist                            2.005764             1.497352   \n",
       "perihelion_time                     2458161.64172       2457794.969431   \n",
       "mean_anomaly                           264.837533           173.741112   \n",
       "mean_motion                              0.590551              0.84533   \n",
       "equinox                                     J2000                J2000   \n",
       "hazardous                                    True                False   \n",
       "\n",
       "                                                2                    3  \\\n",
       "neo_reference_id                          2446862              3092506   \n",
       "name                                      2446862              3092506   \n",
       "absolute_magnitude                           20.3                 27.4   \n",
       "est_dia_in_km_min                        0.231502             0.008801   \n",
       "est_dia_in_km_max                        0.517654             0.019681   \n",
       "est_dia_in_m_min                       231.502122             8.801465   \n",
       "est_dia_in_m_max                       517.654482            19.680675   \n",
       "est_dia_in_miles_min                     0.143849             0.005469   \n",
       "est_dia_in_miles_max                     0.321655             0.012229   \n",
       "est_dia_in_feet_min                    759.521423            28.876199   \n",
       "est_dia_in_feet_max                   1698.341531            64.569144   \n",
       "close_approach_date           1995-01-08 00:00:00  1995-01-15 00:00:00   \n",
       "epoch_date_close_approach            789552000000         790156800000   \n",
       "relative_velocity_km_per_sec             7.590711            11.173874   \n",
       "relative_velocity_km_per_hr          27326.560182         40225.948191   \n",
       "miles_per_hour                       16979.661798         24994.839864   \n",
       "miss_dist_astronomical                   0.050956             0.285322   \n",
       "miss_dist_lunar                          19.82189           110.990387   \n",
       "miss_dist_kilometers                    7622911.5           42683616.0   \n",
       "miss_dist_miles                         4736657.5           26522368.0   \n",
       "orbiting_body                               Earth                Earth   \n",
       "orbit_id                                       22                    7   \n",
       "orbit_determination_date      2017-04-06 09:20:19  2017-04-06 09:15:49   \n",
       "orbit_uncertainity                              0                    6   \n",
       "minimum_orbit_intersection               0.043058             0.005512   \n",
       "jupiter_tisserand_invariant                 4.557                5.093   \n",
       "epoch_osculation                        2458000.5            2458000.5   \n",
       "eccentricity                             0.348248             0.216578   \n",
       "semi_major_axis                          1.458824             1.255903   \n",
       "inclination                              4.237961             7.905894   \n",
       "asc_node_longitude                     259.475979            57.173266   \n",
       "orbital_period                         643.580228            514.08214   \n",
       "perihelion_distance                      0.950791             0.983902   \n",
       "perihelion_arg                         248.415038            18.707701   \n",
       "aphelion_dist                            1.966857             1.527904   \n",
       "perihelion_time                    2458120.467549       2457902.337434   \n",
       "mean_anomaly                           292.893654            68.741007   \n",
       "mean_motion                              0.559371             0.700277   \n",
       "equinox                                     J2000                J2000   \n",
       "hazardous                                    True                False   \n",
       "\n",
       "                                                4  \n",
       "neo_reference_id                          3514799  \n",
       "name                                      3514799  \n",
       "absolute_magnitude                           21.6  \n",
       "est_dia_in_km_min                         0.12722  \n",
       "est_dia_in_km_max                        0.284472  \n",
       "est_dia_in_m_min                       127.219879  \n",
       "est_dia_in_m_max                       284.472297  \n",
       "est_dia_in_miles_min                     0.079051  \n",
       "est_dia_in_miles_max                     0.176763  \n",
       "est_dia_in_feet_min                    417.388066  \n",
       "est_dia_in_feet_max                    933.308089  \n",
       "close_approach_date           1995-01-15 00:00:00  \n",
       "epoch_date_close_approach            790156800000  \n",
       "relative_velocity_km_per_sec             9.840831  \n",
       "relative_velocity_km_per_hr          35426.991794  \n",
       "miles_per_hour                       22012.954985  \n",
       "miss_dist_astronomical                   0.407832  \n",
       "miss_dist_lunar                        158.646713  \n",
       "miss_dist_kilometers                   61010824.0  \n",
       "miss_dist_miles                        37910368.0  \n",
       "orbiting_body                               Earth  \n",
       "orbit_id                                       25  \n",
       "orbit_determination_date      2017-04-06 08:57:58  \n",
       "orbit_uncertainity                              1  \n",
       "minimum_orbit_intersection               0.034798  \n",
       "jupiter_tisserand_invariant                 5.154  \n",
       "epoch_osculation                        2458000.5  \n",
       "eccentricity                             0.210448  \n",
       "semi_major_axis                          1.225615  \n",
       "inclination                             16.793382  \n",
       "asc_node_longitude                      84.629307  \n",
       "orbital_period                         495.597821  \n",
       "perihelion_distance                      0.967687  \n",
       "perihelion_arg                         158.263596  \n",
       "aphelion_dist                            1.483543  \n",
       "perihelion_time                    2457814.455149  \n",
       "mean_anomaly                           135.142133  \n",
       "mean_motion                              0.726395  \n",
       "equinox                                     J2000  \n",
       "hazardous                                    True  "
      ]
     },
     "execution_count": 55,
     "metadata": {},
     "output_type": "execute_result"
    }
   ],
   "source": [
    "#@ LOAD AND SETUP THE DATASET:\n",
    "data = './dataset.csv'\n",
    "config = {\n",
    "  'dates': ['Close Approach Date', 'Orbit Determination Date', 'Epoch Date Close Approach'],\n",
    "  'missing_values': ['n/a', 'na', '--', '-', '?'],\n",
    "  'replacements': {' ':'_', '(':'_',')':'','.':'' },\n",
    "  'seed': 666,\n",
    "}\n",
    "pd.set_option('display.max_rows', None)\n",
    "df = pd.read_csv(data, na_values=config['missing_values'], parse_dates=config['dates'])\n",
    "\n",
    "header = df.columns.str.lower()\n",
    "for k,v in config['replacements'].items(): header = header.str.replace(k, v)  \n",
    "df.columns = header\n",
    "\n",
    "df.head().T"
   ]
  },
  {
   "cell_type": "markdown",
   "id": "a16f848d-ad9a-4f38-99d7-11bba5f47f48",
   "metadata": {},
   "source": [
    "# Exploratory Data Analysis"
   ]
  },
  {
   "cell_type": "code",
   "execution_count": 5,
   "id": "f87583c2-0b5b-4a69-91c4-84ec938c2399",
   "metadata": {},
   "outputs": [
    {
     "name": "stdout",
     "output_type": "stream",
     "text": [
      "<class 'pandas.core.frame.DataFrame'>\n",
      "RangeIndex: 4687 entries, 0 to 4686\n",
      "Data columns (total 40 columns):\n",
      " #   Column                        Non-Null Count  Dtype         \n",
      "---  ------                        --------------  -----         \n",
      " 0   neo_reference_id              4687 non-null   int64         \n",
      " 1   name                          4687 non-null   int64         \n",
      " 2   absolute_magnitude            4687 non-null   float64       \n",
      " 3   est_dia_in_km_min             4687 non-null   float64       \n",
      " 4   est_dia_in_km_max             4687 non-null   float64       \n",
      " 5   est_dia_in_m_min              4687 non-null   float64       \n",
      " 6   est_dia_in_m_max              4687 non-null   float64       \n",
      " 7   est_dia_in_miles_min          4687 non-null   float64       \n",
      " 8   est_dia_in_miles_max          4687 non-null   float64       \n",
      " 9   est_dia_in_feet_min           4687 non-null   float64       \n",
      " 10  est_dia_in_feet_max           4687 non-null   float64       \n",
      " 11  close_approach_date           4687 non-null   datetime64[ns]\n",
      " 12  epoch_date_close_approach     4687 non-null   object        \n",
      " 13  relative_velocity_km_per_sec  4687 non-null   float64       \n",
      " 14  relative_velocity_km_per_hr   4687 non-null   float64       \n",
      " 15  miles_per_hour                4687 non-null   float64       \n",
      " 16  miss_dist_astronomical        4687 non-null   float64       \n",
      " 17  miss_dist_lunar               4687 non-null   float64       \n",
      " 18  miss_dist_kilometers          4687 non-null   float64       \n",
      " 19  miss_dist_miles               4687 non-null   float64       \n",
      " 20  orbiting_body                 4687 non-null   object        \n",
      " 21  orbit_id                      4687 non-null   int64         \n",
      " 22  orbit_determination_date      4687 non-null   datetime64[ns]\n",
      " 23  orbit_uncertainity            4687 non-null   int64         \n",
      " 24  minimum_orbit_intersection    4687 non-null   float64       \n",
      " 25  jupiter_tisserand_invariant   4687 non-null   float64       \n",
      " 26  epoch_osculation              4687 non-null   float64       \n",
      " 27  eccentricity                  4687 non-null   float64       \n",
      " 28  semi_major_axis               4687 non-null   float64       \n",
      " 29  inclination                   4687 non-null   float64       \n",
      " 30  asc_node_longitude            4687 non-null   float64       \n",
      " 31  orbital_period                4687 non-null   float64       \n",
      " 32  perihelion_distance           4687 non-null   float64       \n",
      " 33  perihelion_arg                4687 non-null   float64       \n",
      " 34  aphelion_dist                 4687 non-null   float64       \n",
      " 35  perihelion_time               4687 non-null   float64       \n",
      " 36  mean_anomaly                  4687 non-null   float64       \n",
      " 37  mean_motion                   4687 non-null   float64       \n",
      " 38  equinox                       4687 non-null   object        \n",
      " 39  hazardous                     4687 non-null   bool          \n",
      "dtypes: bool(1), datetime64[ns](2), float64(30), int64(4), object(3)\n",
      "memory usage: 1.4+ MB\n"
     ]
    }
   ],
   "source": [
    "df.info()"
   ]
  },
  {
   "cell_type": "code",
   "execution_count": 6,
   "id": "31e93fb7-e678-4513-9ba6-e8899b0d4ec4",
   "metadata": {},
   "outputs": [
    {
     "data": {
      "text/html": [
       "<div>\n",
       "<style scoped>\n",
       "    .dataframe tbody tr th:only-of-type {\n",
       "        vertical-align: middle;\n",
       "    }\n",
       "\n",
       "    .dataframe tbody tr th {\n",
       "        vertical-align: top;\n",
       "    }\n",
       "\n",
       "    .dataframe thead th {\n",
       "        text-align: right;\n",
       "    }\n",
       "</style>\n",
       "<table border=\"1\" class=\"dataframe\">\n",
       "  <thead>\n",
       "    <tr style=\"text-align: right;\">\n",
       "      <th></th>\n",
       "      <th>neo_reference_id</th>\n",
       "      <th>name</th>\n",
       "      <th>absolute_magnitude</th>\n",
       "      <th>est_dia_in_km_min</th>\n",
       "      <th>est_dia_in_km_max</th>\n",
       "      <th>est_dia_in_m_min</th>\n",
       "      <th>est_dia_in_m_max</th>\n",
       "      <th>est_dia_in_miles_min</th>\n",
       "      <th>est_dia_in_miles_max</th>\n",
       "      <th>est_dia_in_feet_min</th>\n",
       "      <th>...</th>\n",
       "      <th>semi_major_axis</th>\n",
       "      <th>inclination</th>\n",
       "      <th>asc_node_longitude</th>\n",
       "      <th>orbital_period</th>\n",
       "      <th>perihelion_distance</th>\n",
       "      <th>perihelion_arg</th>\n",
       "      <th>aphelion_dist</th>\n",
       "      <th>perihelion_time</th>\n",
       "      <th>mean_anomaly</th>\n",
       "      <th>mean_motion</th>\n",
       "    </tr>\n",
       "  </thead>\n",
       "  <tbody>\n",
       "    <tr>\n",
       "      <th>count</th>\n",
       "      <td>4.687000e+03</td>\n",
       "      <td>4.687000e+03</td>\n",
       "      <td>4687.000000</td>\n",
       "      <td>4687.000000</td>\n",
       "      <td>4687.000000</td>\n",
       "      <td>4687.000000</td>\n",
       "      <td>4687.000000</td>\n",
       "      <td>4687.000000</td>\n",
       "      <td>4687.000000</td>\n",
       "      <td>4687.000000</td>\n",
       "      <td>...</td>\n",
       "      <td>4687.000000</td>\n",
       "      <td>4687.000000</td>\n",
       "      <td>4687.000000</td>\n",
       "      <td>4687.000000</td>\n",
       "      <td>4687.000000</td>\n",
       "      <td>4687.000000</td>\n",
       "      <td>4687.000000</td>\n",
       "      <td>4.687000e+03</td>\n",
       "      <td>4687.000000</td>\n",
       "      <td>4687.000000</td>\n",
       "    </tr>\n",
       "    <tr>\n",
       "      <th>mean</th>\n",
       "      <td>3.272298e+06</td>\n",
       "      <td>3.272298e+06</td>\n",
       "      <td>22.267865</td>\n",
       "      <td>0.204604</td>\n",
       "      <td>0.457509</td>\n",
       "      <td>204.604203</td>\n",
       "      <td>457.508906</td>\n",
       "      <td>0.127135</td>\n",
       "      <td>0.284283</td>\n",
       "      <td>671.273653</td>\n",
       "      <td>...</td>\n",
       "      <td>1.400264</td>\n",
       "      <td>13.373844</td>\n",
       "      <td>172.157275</td>\n",
       "      <td>635.582076</td>\n",
       "      <td>0.813383</td>\n",
       "      <td>183.932151</td>\n",
       "      <td>1.987144</td>\n",
       "      <td>2.457728e+06</td>\n",
       "      <td>181.167927</td>\n",
       "      <td>0.738242</td>\n",
       "    </tr>\n",
       "    <tr>\n",
       "      <th>std</th>\n",
       "      <td>5.486011e+05</td>\n",
       "      <td>5.486011e+05</td>\n",
       "      <td>2.890972</td>\n",
       "      <td>0.369573</td>\n",
       "      <td>0.826391</td>\n",
       "      <td>369.573402</td>\n",
       "      <td>826.391249</td>\n",
       "      <td>0.229642</td>\n",
       "      <td>0.513496</td>\n",
       "      <td>1212.511199</td>\n",
       "      <td>...</td>\n",
       "      <td>0.524154</td>\n",
       "      <td>10.936227</td>\n",
       "      <td>103.276777</td>\n",
       "      <td>370.954727</td>\n",
       "      <td>0.242059</td>\n",
       "      <td>103.513035</td>\n",
       "      <td>0.951519</td>\n",
       "      <td>9.442264e+02</td>\n",
       "      <td>107.501623</td>\n",
       "      <td>0.342627</td>\n",
       "    </tr>\n",
       "    <tr>\n",
       "      <th>min</th>\n",
       "      <td>2.000433e+06</td>\n",
       "      <td>2.000433e+06</td>\n",
       "      <td>11.160000</td>\n",
       "      <td>0.001011</td>\n",
       "      <td>0.002260</td>\n",
       "      <td>1.010543</td>\n",
       "      <td>2.259644</td>\n",
       "      <td>0.000628</td>\n",
       "      <td>0.001404</td>\n",
       "      <td>3.315431</td>\n",
       "      <td>...</td>\n",
       "      <td>0.615920</td>\n",
       "      <td>0.014513</td>\n",
       "      <td>0.001941</td>\n",
       "      <td>176.557161</td>\n",
       "      <td>0.080744</td>\n",
       "      <td>0.006918</td>\n",
       "      <td>0.803765</td>\n",
       "      <td>2.450100e+06</td>\n",
       "      <td>0.003191</td>\n",
       "      <td>0.086285</td>\n",
       "    </tr>\n",
       "    <tr>\n",
       "      <th>25%</th>\n",
       "      <td>3.097594e+06</td>\n",
       "      <td>3.097594e+06</td>\n",
       "      <td>20.100000</td>\n",
       "      <td>0.033462</td>\n",
       "      <td>0.074824</td>\n",
       "      <td>33.462237</td>\n",
       "      <td>74.823838</td>\n",
       "      <td>0.020792</td>\n",
       "      <td>0.046493</td>\n",
       "      <td>109.784247</td>\n",
       "      <td>...</td>\n",
       "      <td>1.000635</td>\n",
       "      <td>4.962341</td>\n",
       "      <td>83.081208</td>\n",
       "      <td>365.605031</td>\n",
       "      <td>0.630834</td>\n",
       "      <td>95.625916</td>\n",
       "      <td>1.266059</td>\n",
       "      <td>2.457815e+06</td>\n",
       "      <td>87.006918</td>\n",
       "      <td>0.453289</td>\n",
       "    </tr>\n",
       "    <tr>\n",
       "      <th>50%</th>\n",
       "      <td>3.514799e+06</td>\n",
       "      <td>3.514799e+06</td>\n",
       "      <td>21.900000</td>\n",
       "      <td>0.110804</td>\n",
       "      <td>0.247765</td>\n",
       "      <td>110.803882</td>\n",
       "      <td>247.765013</td>\n",
       "      <td>0.068850</td>\n",
       "      <td>0.153954</td>\n",
       "      <td>363.529809</td>\n",
       "      <td>...</td>\n",
       "      <td>1.240981</td>\n",
       "      <td>10.311836</td>\n",
       "      <td>172.625393</td>\n",
       "      <td>504.947292</td>\n",
       "      <td>0.833153</td>\n",
       "      <td>189.761641</td>\n",
       "      <td>1.618195</td>\n",
       "      <td>2.457973e+06</td>\n",
       "      <td>185.718889</td>\n",
       "      <td>0.712946</td>\n",
       "    </tr>\n",
       "    <tr>\n",
       "      <th>75%</th>\n",
       "      <td>3.690060e+06</td>\n",
       "      <td>3.690060e+06</td>\n",
       "      <td>24.500000</td>\n",
       "      <td>0.253837</td>\n",
       "      <td>0.567597</td>\n",
       "      <td>253.837029</td>\n",
       "      <td>567.596853</td>\n",
       "      <td>0.157727</td>\n",
       "      <td>0.352688</td>\n",
       "      <td>832.798679</td>\n",
       "      <td>...</td>\n",
       "      <td>1.678364</td>\n",
       "      <td>19.511681</td>\n",
       "      <td>255.026909</td>\n",
       "      <td>794.195972</td>\n",
       "      <td>0.997227</td>\n",
       "      <td>271.777557</td>\n",
       "      <td>2.451171</td>\n",
       "      <td>2.458108e+06</td>\n",
       "      <td>276.531946</td>\n",
       "      <td>0.984669</td>\n",
       "    </tr>\n",
       "    <tr>\n",
       "      <th>max</th>\n",
       "      <td>3.781897e+06</td>\n",
       "      <td>3.781897e+06</td>\n",
       "      <td>32.100000</td>\n",
       "      <td>15.579552</td>\n",
       "      <td>34.836938</td>\n",
       "      <td>15579.552413</td>\n",
       "      <td>34836.938254</td>\n",
       "      <td>9.680682</td>\n",
       "      <td>21.646663</td>\n",
       "      <td>51114.018738</td>\n",
       "      <td>...</td>\n",
       "      <td>5.072008</td>\n",
       "      <td>75.406667</td>\n",
       "      <td>359.905890</td>\n",
       "      <td>4172.231343</td>\n",
       "      <td>1.299832</td>\n",
       "      <td>359.993098</td>\n",
       "      <td>8.983852</td>\n",
       "      <td>2.458839e+06</td>\n",
       "      <td>359.917991</td>\n",
       "      <td>2.039000</td>\n",
       "    </tr>\n",
       "  </tbody>\n",
       "</table>\n",
       "<p>8 rows × 34 columns</p>\n",
       "</div>"
      ],
      "text/plain": [
       "       neo_reference_id          name  absolute_magnitude  est_dia_in_km_min  \\\n",
       "count      4.687000e+03  4.687000e+03         4687.000000        4687.000000   \n",
       "mean       3.272298e+06  3.272298e+06           22.267865           0.204604   \n",
       "std        5.486011e+05  5.486011e+05            2.890972           0.369573   \n",
       "min        2.000433e+06  2.000433e+06           11.160000           0.001011   \n",
       "25%        3.097594e+06  3.097594e+06           20.100000           0.033462   \n",
       "50%        3.514799e+06  3.514799e+06           21.900000           0.110804   \n",
       "75%        3.690060e+06  3.690060e+06           24.500000           0.253837   \n",
       "max        3.781897e+06  3.781897e+06           32.100000          15.579552   \n",
       "\n",
       "       est_dia_in_km_max  est_dia_in_m_min  est_dia_in_m_max  \\\n",
       "count        4687.000000       4687.000000       4687.000000   \n",
       "mean            0.457509        204.604203        457.508906   \n",
       "std             0.826391        369.573402        826.391249   \n",
       "min             0.002260          1.010543          2.259644   \n",
       "25%             0.074824         33.462237         74.823838   \n",
       "50%             0.247765        110.803882        247.765013   \n",
       "75%             0.567597        253.837029        567.596853   \n",
       "max            34.836938      15579.552413      34836.938254   \n",
       "\n",
       "       est_dia_in_miles_min  est_dia_in_miles_max  est_dia_in_feet_min  ...  \\\n",
       "count           4687.000000           4687.000000          4687.000000  ...   \n",
       "mean               0.127135              0.284283           671.273653  ...   \n",
       "std                0.229642              0.513496          1212.511199  ...   \n",
       "min                0.000628              0.001404             3.315431  ...   \n",
       "25%                0.020792              0.046493           109.784247  ...   \n",
       "50%                0.068850              0.153954           363.529809  ...   \n",
       "75%                0.157727              0.352688           832.798679  ...   \n",
       "max                9.680682             21.646663         51114.018738  ...   \n",
       "\n",
       "       semi_major_axis  inclination  asc_node_longitude  orbital_period  \\\n",
       "count      4687.000000  4687.000000         4687.000000     4687.000000   \n",
       "mean          1.400264    13.373844          172.157275      635.582076   \n",
       "std           0.524154    10.936227          103.276777      370.954727   \n",
       "min           0.615920     0.014513            0.001941      176.557161   \n",
       "25%           1.000635     4.962341           83.081208      365.605031   \n",
       "50%           1.240981    10.311836          172.625393      504.947292   \n",
       "75%           1.678364    19.511681          255.026909      794.195972   \n",
       "max           5.072008    75.406667          359.905890     4172.231343   \n",
       "\n",
       "       perihelion_distance  perihelion_arg  aphelion_dist  perihelion_time  \\\n",
       "count          4687.000000     4687.000000    4687.000000     4.687000e+03   \n",
       "mean              0.813383      183.932151       1.987144     2.457728e+06   \n",
       "std               0.242059      103.513035       0.951519     9.442264e+02   \n",
       "min               0.080744        0.006918       0.803765     2.450100e+06   \n",
       "25%               0.630834       95.625916       1.266059     2.457815e+06   \n",
       "50%               0.833153      189.761641       1.618195     2.457973e+06   \n",
       "75%               0.997227      271.777557       2.451171     2.458108e+06   \n",
       "max               1.299832      359.993098       8.983852     2.458839e+06   \n",
       "\n",
       "       mean_anomaly  mean_motion  \n",
       "count   4687.000000  4687.000000  \n",
       "mean     181.167927     0.738242  \n",
       "std      107.501623     0.342627  \n",
       "min        0.003191     0.086285  \n",
       "25%       87.006918     0.453289  \n",
       "50%      185.718889     0.712946  \n",
       "75%      276.531946     0.984669  \n",
       "max      359.917991     2.039000  \n",
       "\n",
       "[8 rows x 34 columns]"
      ]
     },
     "execution_count": 6,
     "metadata": {},
     "output_type": "execute_result"
    }
   ],
   "source": [
    "df.describe()"
   ]
  },
  {
   "cell_type": "code",
   "execution_count": 7,
   "id": "c60323ff-98f6-462b-9d86-3d7e4aec3d45",
   "metadata": {},
   "outputs": [
    {
     "data": {
      "text/plain": [
       "neo_reference_id                False\n",
       "name                            False\n",
       "absolute_magnitude              False\n",
       "est_dia_in_km_min               False\n",
       "est_dia_in_km_max               False\n",
       "est_dia_in_m_min                False\n",
       "est_dia_in_m_max                False\n",
       "est_dia_in_miles_min            False\n",
       "est_dia_in_miles_max            False\n",
       "est_dia_in_feet_min             False\n",
       "est_dia_in_feet_max             False\n",
       "close_approach_date             False\n",
       "epoch_date_close_approach       False\n",
       "relative_velocity_km_per_sec    False\n",
       "relative_velocity_km_per_hr     False\n",
       "miles_per_hour                  False\n",
       "miss_dist_astronomical          False\n",
       "miss_dist_lunar                 False\n",
       "miss_dist_kilometers            False\n",
       "miss_dist_miles                 False\n",
       "orbiting_body                   False\n",
       "orbit_id                        False\n",
       "orbit_determination_date        False\n",
       "orbit_uncertainity              False\n",
       "minimum_orbit_intersection      False\n",
       "jupiter_tisserand_invariant     False\n",
       "epoch_osculation                False\n",
       "eccentricity                    False\n",
       "semi_major_axis                 False\n",
       "inclination                     False\n",
       "asc_node_longitude              False\n",
       "orbital_period                  False\n",
       "perihelion_distance             False\n",
       "perihelion_arg                  False\n",
       "aphelion_dist                   False\n",
       "perihelion_time                 False\n",
       "mean_anomaly                    False\n",
       "mean_motion                     False\n",
       "equinox                         False\n",
       "hazardous                       False\n",
       "dtype: bool"
      ]
     },
     "execution_count": 7,
     "metadata": {},
     "output_type": "execute_result"
    }
   ],
   "source": [
    "#@ Check for na values\n",
    "df.isna().any()"
   ]
  },
  {
   "cell_type": "markdown",
   "id": "2c6b89c1-4716-4ca5-ae7e-4f0c89d599b3",
   "metadata": {},
   "source": [
    "We are lucky, no need to cleanup from missing values"
   ]
  },
  {
   "cell_type": "code",
   "execution_count": 8,
   "id": "ad932519-e73f-456d-84b0-b34944d2ae70",
   "metadata": {},
   "outputs": [
    {
     "data": {
      "text/plain": [
       "neo_reference_id                         int64\n",
       "name                                     int64\n",
       "absolute_magnitude                     float64\n",
       "est_dia_in_km_min                      float64\n",
       "est_dia_in_km_max                      float64\n",
       "est_dia_in_m_min                       float64\n",
       "est_dia_in_m_max                       float64\n",
       "est_dia_in_miles_min                   float64\n",
       "est_dia_in_miles_max                   float64\n",
       "est_dia_in_feet_min                    float64\n",
       "est_dia_in_feet_max                    float64\n",
       "close_approach_date             datetime64[ns]\n",
       "epoch_date_close_approach               object\n",
       "relative_velocity_km_per_sec           float64\n",
       "relative_velocity_km_per_hr            float64\n",
       "miles_per_hour                         float64\n",
       "miss_dist_astronomical                 float64\n",
       "miss_dist_lunar                        float64\n",
       "miss_dist_kilometers                   float64\n",
       "miss_dist_miles                        float64\n",
       "orbiting_body                           object\n",
       "orbit_id                                 int64\n",
       "orbit_determination_date        datetime64[ns]\n",
       "orbit_uncertainity                       int64\n",
       "minimum_orbit_intersection             float64\n",
       "jupiter_tisserand_invariant            float64\n",
       "epoch_osculation                       float64\n",
       "eccentricity                           float64\n",
       "semi_major_axis                        float64\n",
       "inclination                            float64\n",
       "asc_node_longitude                     float64\n",
       "orbital_period                         float64\n",
       "perihelion_distance                    float64\n",
       "perihelion_arg                         float64\n",
       "aphelion_dist                          float64\n",
       "perihelion_time                        float64\n",
       "mean_anomaly                           float64\n",
       "mean_motion                            float64\n",
       "equinox                                 object\n",
       "hazardous                                 bool\n",
       "dtype: object"
      ]
     },
     "execution_count": 8,
     "metadata": {},
     "output_type": "execute_result"
    }
   ],
   "source": [
    "#@ Check attribute types\n",
    "df.dtypes"
   ]
  },
  {
   "cell_type": "code",
   "execution_count": 9,
   "id": "a0466eaf-3a0f-4288-9e22-5aed13973fdb",
   "metadata": {},
   "outputs": [],
   "source": [
    "#@ Lets drop useless columns: dates + names and ids\n",
    "for col in [\"neo_reference_id\",\"name\", \"close_approach_date\", \"epoch_date_close_approach\", \"orbit_determination_date\", \"orbit_id\"]:\n",
    "    df.drop(col, axis=1, inplace=True, errors='ignore')"
   ]
  },
  {
   "cell_type": "code",
   "execution_count": 10,
   "id": "16bdaf8e-f9ef-4413-959d-50d4efe7b441",
   "metadata": {},
   "outputs": [
    {
     "data": {
      "text/plain": [
       "equinox          1\n",
       "orbiting_body    1\n",
       "dtype: int64"
      ]
     },
     "execution_count": 10,
     "metadata": {},
     "output_type": "execute_result"
    }
   ],
   "source": [
    "#@ Introspect categorical attributes\n",
    "categorical = ['equinox', 'orbiting_body']\n",
    "df[categorical].nunique()"
   ]
  },
  {
   "cell_type": "markdown",
   "id": "8ad37366-b703-449a-8037-85ae4006d446",
   "metadata": {},
   "source": [
    "Given categorical columns contains single value, turned out to be useless, ,less drop them"
   ]
  },
  {
   "cell_type": "code",
   "execution_count": 11,
   "id": "7c134e68-1bc1-4f40-84c9-f14bf591a4f9",
   "metadata": {},
   "outputs": [],
   "source": [
    "df.drop('equinox', axis=1, inplace=True, errors='ignore')\n",
    "df.drop('orbiting_body', axis=1, inplace=True, errors='ignore')"
   ]
  },
  {
   "cell_type": "code",
   "execution_count": 12,
   "id": "d3ba4628-17a9-4f6d-afc2-c0baccf9fc4d",
   "metadata": {},
   "outputs": [
    {
     "data": {
      "text/plain": [
       "absolute_magnitude              0\n",
       "est_dia_in_km_min               0\n",
       "est_dia_in_km_max               0\n",
       "est_dia_in_m_min                0\n",
       "est_dia_in_m_max                0\n",
       "est_dia_in_miles_min            0\n",
       "est_dia_in_miles_max            0\n",
       "est_dia_in_feet_min             0\n",
       "est_dia_in_feet_max             0\n",
       "relative_velocity_km_per_sec    0\n",
       "relative_velocity_km_per_hr     0\n",
       "miles_per_hour                  0\n",
       "miss_dist_astronomical          0\n",
       "miss_dist_lunar                 0\n",
       "miss_dist_kilometers            0\n",
       "miss_dist_miles                 0\n",
       "orbit_uncertainity              0\n",
       "minimum_orbit_intersection      0\n",
       "jupiter_tisserand_invariant     0\n",
       "epoch_osculation                0\n",
       "eccentricity                    0\n",
       "semi_major_axis                 0\n",
       "inclination                     0\n",
       "asc_node_longitude              0\n",
       "orbital_period                  0\n",
       "perihelion_distance             0\n",
       "perihelion_arg                  0\n",
       "aphelion_dist                   0\n",
       "perihelion_time                 0\n",
       "mean_anomaly                    0\n",
       "mean_motion                     0\n",
       "dtype: int64"
      ]
     },
     "execution_count": 12,
     "metadata": {},
     "output_type": "execute_result"
    }
   ],
   "source": [
    "#@ Introspect numerical attributes\n",
    "numerical = df.select_dtypes(include=[np.number]).columns\n",
    "df[numerical].isnull().sum()"
   ]
  },
  {
   "cell_type": "markdown",
   "id": "22c74d95-0ef1-48ef-9d2e-8396005bea55",
   "metadata": {},
   "source": [
    "Seems to be a clean dataset, lucky"
   ]
  },
  {
   "cell_type": "markdown",
   "id": "426ac90c-63c8-4301-8480-6ae222fe4a5a",
   "metadata": {},
   "source": [
    "# Target\n",
    "\n",
    "Column `hazardous` is out tagret. If set to true - asteroid should be treated as hazardous."
   ]
  },
  {
   "cell_type": "code",
   "execution_count": 13,
   "id": "6b8b6477-acd6-43a5-a346-6b9d54e01f62",
   "metadata": {},
   "outputs": [
    {
     "name": "stdout",
     "output_type": "stream",
     "text": [
      "0    0.838916\n",
      "1    0.161084\n",
      "Name: hazardous, dtype: float64\n"
     ]
    }
   ],
   "source": [
    "df.hazardous = df.hazardous.astype('int')\n",
    "print(df.hazardous.value_counts(normalize=True))"
   ]
  },
  {
   "cell_type": "markdown",
   "id": "ef05948b-18f2-4f7b-81fd-740a1322b991",
   "metadata": {},
   "source": [
    "# Feature importance analysis"
   ]
  },
  {
   "cell_type": "markdown",
   "id": "6e85433f-34bc-44d4-9859-2ee053775449",
   "metadata": {},
   "source": [
    "Explore correlation for numerical attributes"
   ]
  },
  {
   "cell_type": "code",
   "execution_count": 14,
   "id": "bdb50007-fa69-4f8d-aa48-16b64ac19468",
   "metadata": {},
   "outputs": [
    {
     "data": {
      "text/plain": [
       "orbit_uncertainity              0.328721\n",
       "absolute_magnitude              0.325522\n",
       "minimum_orbit_intersection      0.288949\n",
       "perihelion_distance             0.207027\n",
       "relative_velocity_km_per_sec    0.191970\n",
       "relative_velocity_km_per_hr     0.191970\n",
       "miles_per_hour                  0.191970\n",
       "eccentricity                    0.183269\n",
       "est_dia_in_miles_max            0.132424\n",
       "est_dia_in_m_min                0.132424\n",
       "est_dia_in_feet_max             0.132424\n",
       "est_dia_in_feet_min             0.132424\n",
       "est_dia_in_m_max                0.132424\n",
       "est_dia_in_km_max               0.132424\n",
       "est_dia_in_km_min               0.132424\n",
       "est_dia_in_miles_min            0.132424\n",
       "mean_anomaly                    0.054164\n",
       "epoch_osculation                0.040940\n",
       "aphelion_dist                   0.040800\n",
       "perihelion_time                 0.038113\n",
       "miss_dist_lunar                 0.032407\n",
       "miss_dist_kilometers            0.032407\n",
       "miss_dist_miles                 0.032407\n",
       "miss_dist_astronomical          0.032407\n",
       "asc_node_longitude              0.017536\n",
       "mean_motion                     0.013028\n",
       "orbital_period                  0.011168\n",
       "semi_major_axis                 0.010770\n",
       "inclination                     0.009607\n",
       "perihelion_arg                  0.003865\n",
       "jupiter_tisserand_invariant     0.003404\n",
       "dtype: float64"
      ]
     },
     "execution_count": 14,
     "metadata": {},
     "output_type": "execute_result"
    }
   ],
   "source": [
    "corr_matrix = df[numerical].corrwith(df.hazardous).abs().sort_values(ascending=False)\n",
    "corr_matrix"
   ]
  },
  {
   "cell_type": "markdown",
   "id": "588ef0ec-23df-4c9c-842c-183d2491b5b5",
   "metadata": {},
   "source": [
    "# Model training"
   ]
  },
  {
   "cell_type": "markdown",
   "id": "c7c8f182-518a-412c-a185-e34f4e2ae9d8",
   "metadata": {},
   "source": [
    "### Validation framework"
   ]
  },
  {
   "cell_type": "code",
   "execution_count": 15,
   "id": "c36638c1-f40b-4f36-aaa0-ee984b41344c",
   "metadata": {},
   "outputs": [],
   "source": [
    "df_full_train, df_test = train_test_split(df, test_size=0.2, random_state=config['seed'])\n",
    "df_train, df_val = train_test_split(df_full_train, test_size=0.25, random_state=config['seed'])\n",
    "\n",
    "df_train = df_train.reset_index(drop=True)\n",
    "df_val = df_val.reset_index(drop=True)\n",
    "df_test = df_test.reset_index(drop=True)\n",
    "\n",
    "y_train = df_train.hazardous.values\n",
    "y_val = df_val.hazardous.values\n",
    "y_test = df_test.hazardous.values\n",
    "\n",
    "del df_train['hazardous']\n",
    "del df_val['hazardous']\n",
    "del df_test['hazardous']"
   ]
  },
  {
   "cell_type": "code",
   "execution_count": 17,
   "id": "9fe4a1b4-1fde-4405-9779-d2d4cdee133b",
   "metadata": {},
   "outputs": [],
   "source": [
    "vectorizer = DictVectorizer(sparse=False)\n",
    "\n",
    "train_dict = df_train.to_dict(orient='records')\n",
    "val_dict   = df_val.to_dict(orient='records')\n",
    "test_dict  = df_test.to_dict(orient='records')\n",
    "\n",
    "X_train = vectorizer.fit_transform(train_dict)\n",
    "X_val   = vectorizer.transform(val_dict)\n",
    "X_test  = vectorizer.transform(test_dict)"
   ]
  },
  {
   "cell_type": "markdown",
   "id": "9d26aa43-93ef-489d-b41b-4e61d1b98768",
   "metadata": {},
   "source": [
    "### Model 1: Decision Tree"
   ]
  },
  {
   "cell_type": "markdown",
   "id": "0115a4b3-4994-46cd-86ba-93ca42778fb6",
   "metadata": {},
   "source": [
    "#### Build"
   ]
  },
  {
   "cell_type": "code",
   "execution_count": 18,
   "id": "381f518c-9a01-4b8c-8e6b-0a218e593a3e",
   "metadata": {},
   "outputs": [
    {
     "data": {
      "text/plain": [
       "0.9947023057010415"
      ]
     },
     "execution_count": 18,
     "metadata": {},
     "output_type": "execute_result"
    }
   ],
   "source": [
    "tree_classifier = DecisionTreeClassifier()\n",
    "tree_classifier.fit(X_train, y_train)\n",
    "\n",
    "y_pred = tree_classifier.predict_proba(X_val)\n",
    "y_pred = tree_classifier.predict_proba(X_val)[:, 1]\n",
    "roc_auc_score(y_val, y_pred)"
   ]
  },
  {
   "cell_type": "code",
   "execution_count": 19,
   "id": "ac9cfcd1-2b05-4e17-a980-921b56e06d8d",
   "metadata": {},
   "outputs": [
    {
     "name": "stdout",
     "output_type": "stream",
     "text": [
      "|--- minimum_orbit_intersection <= 0.05\n",
      "|   |--- est_dia_in_miles_min <= 0.06\n",
      "|   |   |--- est_dia_in_miles_max <= 0.14\n",
      "|   |   |   |--- est_dia_in_feet_max <= 692.05\n",
      "|   |   |   |   |--- class: 0\n",
      "|   |   |   |--- est_dia_in_feet_max >  692.05\n",
      "|   |   |   |   |--- aphelion_dist <= 1.21\n",
      "|   |   |   |   |   |--- class: 1\n",
      "|   |   |   |   |--- aphelion_dist >  1.21\n",
      "|   |   |   |   |   |--- class: 0\n",
      "|   |   |--- est_dia_in_miles_max >  0.14\n",
      "|   |   |   |--- inclination <= 2.33\n",
      "|   |   |   |   |--- class: 1\n",
      "|   |   |   |--- inclination >  2.33\n",
      "|   |   |   |   |--- class: 0\n",
      "|   |--- est_dia_in_miles_min >  0.06\n",
      "|   |   |--- absolute_magnitude <= 21.98\n",
      "|   |   |   |--- est_dia_in_feet_max <= 832.03\n",
      "|   |   |   |   |--- eccentricity <= 0.64\n",
      "|   |   |   |   |   |--- class: 1\n",
      "|   |   |   |   |--- eccentricity >  0.64\n",
      "|   |   |   |   |   |--- aphelion_dist <= 2.51\n",
      "|   |   |   |   |   |   |--- class: 1\n",
      "|   |   |   |   |   |--- aphelion_dist >  2.51\n",
      "|   |   |   |   |   |   |--- class: 0\n",
      "|   |   |   |--- est_dia_in_feet_max >  832.03\n",
      "|   |   |   |   |--- class: 1\n",
      "|   |   |--- absolute_magnitude >  21.98\n",
      "|   |   |   |--- minimum_orbit_intersection <= 0.01\n",
      "|   |   |   |   |--- class: 0\n",
      "|   |   |   |--- minimum_orbit_intersection >  0.01\n",
      "|   |   |   |   |--- orbital_period <= 251.34\n",
      "|   |   |   |   |   |--- class: 0\n",
      "|   |   |   |   |--- orbital_period >  251.34\n",
      "|   |   |   |   |   |--- class: 1\n",
      "|--- minimum_orbit_intersection >  0.05\n",
      "|   |--- class: 0\n",
      "\n"
     ]
    }
   ],
   "source": [
    "# print deciscion tree\n",
    "print(export_text(tree_classifier, feature_names=vectorizer.get_feature_names()))"
   ]
  },
  {
   "cell_type": "markdown",
   "id": "c51adb51-4702-4b08-889a-eca89655c9bf",
   "metadata": {},
   "source": [
    "#### Tune"
   ]
  },
  {
   "cell_type": "code",
   "execution_count": 20,
   "id": "61f30916-c57d-421a-a501-339982c08649",
   "metadata": {},
   "outputs": [
    {
     "name": "stdout",
     "output_type": "stream",
     "text": [
      "validation_roc_auc_score: 0.9951280132786364\n",
      "test_roc_auc_score: 0.9951280132786364\n",
      "tree:\n",
      "|--- minimum_orbit_intersection <= 0.05\n",
      "|   |--- est_dia_in_m_max <= 232.86\n",
      "|   |   |--- est_dia_in_km_max <= 0.22\n",
      "|   |   |   |--- class: 0\n",
      "|   |   |--- est_dia_in_km_max >  0.22\n",
      "|   |   |   |--- class: 0\n",
      "|   |--- est_dia_in_m_max >  232.86\n",
      "|   |   |--- est_dia_in_feet_min <= 350.48\n",
      "|   |   |   |--- class: 1\n",
      "|   |   |--- est_dia_in_feet_min >  350.48\n",
      "|   |   |   |--- class: 1\n",
      "|--- minimum_orbit_intersection >  0.05\n",
      "|   |--- class: 0\n",
      "\n"
     ]
    }
   ],
   "source": [
    "# Use custom tree depth\n",
    "tree_classifier_v2 = DecisionTreeClassifier(max_depth=3)\n",
    "tree_classifier_v2.fit(X_train, y_train)\n",
    "\n",
    "y_pred = tree_classifier_v2.predict_proba(X_val)[:, 1]\n",
    "validation_auc = roc_auc_score(y_val, y_pred)\n",
    "\n",
    "y_pred = tree_classifier_v2.predict_proba(X_test)[:, 1]\n",
    "test_auc = roc_auc_score(y_test, y_pred)\n",
    "\n",
    "print(f'validation_roc_auc_score: {validation_auc}')\n",
    "print(f'test_roc_auc_score: {validation_auc}')\n",
    "print('tree:')\n",
    "print(export_text(tree_classifier_v2, feature_names=vectorizer.get_feature_names()))"
   ]
  },
  {
   "cell_type": "code",
   "execution_count": 21,
   "id": "3ad0662e-b073-42ca-9e3d-62cc01f35d4a",
   "metadata": {},
   "outputs": [
    {
     "data": {
      "application/vnd.jupyter.widget-view+json": {
       "model_id": "cb05f4ac79344125a009cdcb24913155",
       "version_major": 2,
       "version_minor": 0
      },
      "text/plain": [
       "  0%|          | 0/10 [00:00<?, ?it/s]"
      ]
     },
     "metadata": {},
     "output_type": "display_data"
    },
    {
     "data": {
      "text/plain": [
       "<AxesSubplot:xlabel='None-max_depth', ylabel='min_samples_leaf'>"
      ]
     },
     "execution_count": 21,
     "metadata": {},
     "output_type": "execute_result"
    },
    {
     "data": {
      "image/png": "[encoded data removed]",
      "text/plain": [
       "<Figure size 640x480 with 2 Axes>"
      ]
     },
     "metadata": {},
     "output_type": "display_data"
    }
   ],
   "source": [
    "def tune_tree(x_train, y_train, x_val, y_val, max_depth = [1, 2, 3, 4, 5, 6, 7, 8, 9, 10], min_samples_leaf=[1, 5, 10, 15, 20]):\n",
    "    scores = []\n",
    "\n",
    "    for depth in tqdm(max_depth):\n",
    "        for s in min_samples_leaf:\n",
    "            tree = DecisionTreeClassifier(max_depth=depth, min_samples_leaf=s)\n",
    "            tree.fit(x_train, y_train)\n",
    "\n",
    "            y_pred = tree.predict_proba(x_val)[:, 1]\n",
    "            auc = roc_auc_score(y_val, y_pred)\n",
    "\n",
    "            scores.append((depth, s, auc))\n",
    "    return scores\n",
    "scores = tune_tree(X_train, y_train, X_val, y_val)\n",
    "\n",
    "columns = ['max_depth', 'min_samples_leaf', 'auc']\n",
    "df_scores = pd.DataFrame(scores, columns=columns)\n",
    "df_scores_pivot = df_scores.pivot(index='min_samples_leaf', columns=['max_depth'], values=['auc'])\n",
    "df_scores_pivot.round(3)\n",
    "sns.heatmap(df_scores_pivot, annot=True, fmt=\".3f\", linewidths=.1)"
   ]
  },
  {
   "cell_type": "code",
   "execution_count": 33,
   "id": "5c849cc8-9648-483c-a8c3-2ce308a44c37",
   "metadata": {},
   "outputs": [
    {
     "name": "stdout",
     "output_type": "stream",
     "text": [
      "ROC AUC score: 0.9965427384607447\n"
     ]
    }
   ],
   "source": [
    "# Best result\n",
    "test_classifier = DecisionTreeClassifier(max_depth=4, min_samples_leaf=10)\n",
    "test_classifier.fit(X_train, y_train)\n",
    "y_pred = test_classifier.predict_proba(X_val)[:, 1]\n",
    "print(f'ROC AUC score: {roc_auc_score(y_val, y_pred)}')"
   ]
  },
  {
   "cell_type": "markdown",
   "id": "8c6d3674-e073-4d50-aac8-10cffc3253cd",
   "metadata": {},
   "source": [
    "#### Cross validation"
   ]
  },
  {
   "cell_type": "code",
   "execution_count": 51,
   "id": "3ff9a40e-7ec5-4fb2-89ee-b0649cad5e5e",
   "metadata": {},
   "outputs": [
    {
     "name": "stdout",
     "output_type": "stream",
     "text": [
      "Decision Tree Cross Validation:\n",
      "auc_scores:\t[0.9957650255030697, 0.9999865908603304, 1.0, 0.9999189857009763, 0.9951958376585563]\n",
      "auc_mean:\t0.9981732879445866\n",
      "auc_std:\t0.0022062340423130147\n"
     ]
    }
   ],
   "source": [
    "def train_tree_classifier(x, y, max_depth=4, min_samples_leaf=10):\n",
    "    vectorizer = DictVectorizer(sparse=False)\n",
    "    X = vectorizer.fit_transform(x.to_dict(orient='records'))\n",
    "\n",
    "    tree_classifier = DecisionTreeClassifier(max_depth=max_depth, min_samples_leaf=min_samples_leaf)\n",
    "    tree_classifier.fit(X, y)\n",
    "    \n",
    "    return vectorizer, tree_classifier\n",
    "\n",
    "def predict_tree_classifier(x, vectorizer, tree_classifier):\n",
    "    X = vectorizer.transform(x.to_dict(orient='records'))\n",
    "    return tree_classifier.predict_proba(X)[:, 1]\n",
    "\n",
    "def cross_validation_tree_classifier(df, n_folds=5, shuffle=True, random_state=config['seed']):\n",
    "    scores = []\n",
    "    kfold = KFold(n_splits=n_folds, shuffle=True, random_state=random_state)\n",
    "    \n",
    "    for t, v in kfold.split(df):\n",
    "        df_train = df.iloc[t]\n",
    "        df_validation = df.iloc[v]\n",
    "\n",
    "        y_train = df_train.hazardous.values\n",
    "        y_validation = df_validation.hazardous.values\n",
    "\n",
    "        del df_train['hazardous']\n",
    "        del df_validation['hazardous']\n",
    "\n",
    "        vectorizer, model = train_tree_classifier(df_train, y_train)\n",
    "        y_prediction = predict_tree_classifier(df_validation, vectorizer, model)\n",
    "\n",
    "        scores.append(roc_auc_score(y_validation, y_prediction))\n",
    "    \n",
    "    return scores, np.mean(scores), np.std(scores)\n",
    "\n",
    "scores, auc_mean, auc_std = cross_validation_tree_classifier(df_full_train)\n",
    "print(f'Decision Tree Cross Validation:\\nauc_scores:\\t{scores}\\nauc_mean:\\t{auc_mean}\\nauc_std:\\t{auc_std}')\n"
   ]
  },
  {
   "cell_type": "markdown",
   "id": "ef7a2985-9c48-4cb5-a557-88a05a0d7662",
   "metadata": {},
   "source": [
    "#### Result"
   ]
  },
  {
   "cell_type": "code",
   "execution_count": 36,
   "id": "9ccd535a-864c-48b3-be26-889fb1ed4f77",
   "metadata": {},
   "outputs": [
    {
     "data": {
      "text/plain": [
       "0.9965427384607447"
      ]
     },
     "execution_count": 36,
     "metadata": {},
     "output_type": "execute_result"
    }
   ],
   "source": [
    "vectorizer1, model1 = train_tree_classifier(df_train, y_train, 4, 10)\n",
    "roc_auc_score(y_val, model1.predict_proba(X_val)[:, 1])"
   ]
  },
  {
   "cell_type": "markdown",
   "id": "bab89534-258f-46eb-9da1-fb8c35ad06b8",
   "metadata": {},
   "source": [
    "### Model 2: Random Forest"
   ]
  },
  {
   "cell_type": "markdown",
   "id": "fb94c3c6-e3fb-477d-bcaf-ec345ee09dbc",
   "metadata": {},
   "source": [
    "#### Build"
   ]
  },
  {
   "cell_type": "code",
   "execution_count": 98,
   "id": "e30a4d65-a9cb-45c1-b529-70e6e0cc380d",
   "metadata": {},
   "outputs": [
    {
     "data": {
      "text/plain": [
       "0.9999827996938346"
      ]
     },
     "execution_count": 98,
     "metadata": {},
     "output_type": "execute_result"
    }
   ],
   "source": [
    "classifier_rf = RandomForestClassifier(random_state=config['seed'])\n",
    "classifier_rf.fit(X_train, y_train)\n",
    "\n",
    "y_prediction = classifier_rf.predict_proba(X_val)[:, 1]\n",
    "roc_auc_score(y_val, y_prediction)"
   ]
  },
  {
   "cell_type": "markdown",
   "id": "bf239cd4-12ea-4fbd-86d2-43edf5777ea0",
   "metadata": {},
   "source": [
    "#### Tune"
   ]
  },
  {
   "cell_type": "code",
   "execution_count": 25,
   "id": "00d70091-b2ce-47a3-919d-76efffd60fcc",
   "metadata": {},
   "outputs": [
    {
     "name": "stdout",
     "output_type": "stream",
     "text": [
      "    n_estimators       auc\n",
      "7             80  0.999983\n",
      "8             90  0.999983\n",
      "9            100  0.999983\n",
      "11           120  0.999983\n",
      "12           130  0.999983\n",
      "13           140  0.999983\n",
      "14           150  0.999983\n",
      "15           160  0.999983\n",
      "16           170  0.999983\n",
      "18           190  0.999983\n"
     ]
    },
    {
     "data": {
      "image/png": "[encoded data removed]",
      "text/plain": [
       "<Figure size 640x480 with 1 Axes>"
      ]
     },
     "metadata": {},
     "output_type": "display_data"
    }
   ],
   "source": [
    "# Tune number of estimators\n",
    "scores = []\n",
    "\n",
    "for n in range(10, 201, 10):\n",
    "    classifier_rf = RandomForestClassifier(n_estimators=n, random_state=config['seed'], n_jobs=-1)\n",
    "    classifier_rf.fit(X_train, y_train)\n",
    "\n",
    "    y_prediction = classifier_rf.predict_proba(X_val)[:, 1]\n",
    "    auc = roc_auc_score(y_val, y_prediction)\n",
    "    scores.append((n, auc))\n",
    "    \n",
    "classifier_rf_tune_scores = pd.DataFrame(scores, columns=['n_estimators', 'auc'])\n",
    "plt.plot(classifier_rf_tune_scores.n_estimators, classifier_rf_tune_scores.auc)\n",
    "print(classifier_rf_tune_scores[classifier_rf_tune_scores.auc == classifier_rf_tune_scores.auc.max()])"
   ]
  },
  {
   "cell_type": "code",
   "execution_count": 27,
   "id": "30f7683e-e300-4267-a1cd-630896f47f02",
   "metadata": {},
   "outputs": [
    {
     "data": {
      "text/plain": [
       "0.9999612993111276"
      ]
     },
     "execution_count": 27,
     "metadata": {},
     "output_type": "execute_result"
    }
   ],
   "source": [
    "classifier_rf = RandomForestClassifier(n_estimators=60, random_state=config['seed'], n_jobs=-1)\n",
    "classifier_rf.fit(X_train, y_train)\n",
    "y_prediction = classifier_rf.predict_proba(X_val)[:, 1]\n",
    "roc_auc_score(y_val, y_prediction)"
   ]
  },
  {
   "cell_type": "code",
   "execution_count": 28,
   "id": "8ba0953a-e202-4803-928b-c05484a83358",
   "metadata": {},
   "outputs": [
    {
     "data": {
      "application/vnd.jupyter.widget-view+json": {
       "model_id": "b6ec1bf48d9a412fbd0b180a67010d67",
       "version_major": 2,
       "version_minor": 0
      },
      "text/plain": [
       "  0%|          | 0/4 [00:00<?, ?it/s]"
      ]
     },
     "metadata": {},
     "output_type": "display_data"
    },
    {
     "data": {
      "text/html": [
       "<div>\n",
       "<style scoped>\n",
       "    .dataframe tbody tr th:only-of-type {\n",
       "        vertical-align: middle;\n",
       "    }\n",
       "\n",
       "    .dataframe tbody tr th {\n",
       "        vertical-align: top;\n",
       "    }\n",
       "\n",
       "    .dataframe thead th {\n",
       "        text-align: right;\n",
       "    }\n",
       "</style>\n",
       "<table border=\"1\" class=\"dataframe\">\n",
       "  <thead>\n",
       "    <tr style=\"text-align: right;\">\n",
       "      <th></th>\n",
       "      <th>max_depth</th>\n",
       "      <th>n_estimators</th>\n",
       "      <th>auc</th>\n",
       "    </tr>\n",
       "  </thead>\n",
       "  <tbody>\n",
       "    <tr>\n",
       "      <th>23</th>\n",
       "      <td>11</td>\n",
       "      <td>70</td>\n",
       "      <td>0.999983</td>\n",
       "    </tr>\n",
       "    <tr>\n",
       "      <th>24</th>\n",
       "      <td>11</td>\n",
       "      <td>90</td>\n",
       "      <td>0.999983</td>\n",
       "    </tr>\n",
       "  </tbody>\n",
       "</table>\n",
       "</div>"
      ],
      "text/plain": [
       "    max_depth  n_estimators       auc\n",
       "23         11            70  0.999983\n",
       "24         11            90  0.999983"
      ]
     },
     "execution_count": 28,
     "metadata": {},
     "output_type": "execute_result"
    }
   ],
   "source": [
    "# Tune depth\n",
    "scores = []\n",
    "\n",
    "for d in tqdm(range(1, 21, 5)):\n",
    "    for n in range(10, 201, 20):\n",
    "        classifier_rf = RandomForestClassifier(n_estimators=n, max_depth=d, random_state=1, n_jobs=-1)\n",
    "        classifier_rf.fit(X_train, y_train)\n",
    "\n",
    "        y_prediction = classifier_rf.predict_proba(X_val)[:,1]\n",
    "        auc = roc_auc_score(y_val, y_prediction)\n",
    "\n",
    "        scores.append((d, n, auc))\n",
    "        \n",
    "columns = ['max_depth', 'n_estimators', 'auc']\n",
    "classifier_rf_tune_scores = pd.DataFrame(scores, columns=columns)\n",
    "classifier_rf_tune_scores[classifier_rf_tune_scores.auc == classifier_rf_tune_scores.auc.max()]"
   ]
  },
  {
   "cell_type": "code",
   "execution_count": 30,
   "id": "a5b08057-31cd-4502-b429-162493472c42",
   "metadata": {},
   "outputs": [
    {
     "data": {
      "application/vnd.jupyter.widget-view+json": {
       "model_id": "9a88643c43cf4a0b8a274a9f0eace751",
       "version_major": 2,
       "version_minor": 0
      },
      "text/plain": [
       "  0%|          | 0/20 [00:00<?, ?it/s]"
      ]
     },
     "metadata": {},
     "output_type": "display_data"
    },
    {
     "data": {
      "text/html": [
       "<div>\n",
       "<style scoped>\n",
       "    .dataframe tbody tr th:only-of-type {\n",
       "        vertical-align: middle;\n",
       "    }\n",
       "\n",
       "    .dataframe tbody tr th {\n",
       "        vertical-align: top;\n",
       "    }\n",
       "\n",
       "    .dataframe thead th {\n",
       "        text-align: right;\n",
       "    }\n",
       "</style>\n",
       "<table border=\"1\" class=\"dataframe\">\n",
       "  <thead>\n",
       "    <tr style=\"text-align: right;\">\n",
       "      <th></th>\n",
       "      <th>min_samples_leaf</th>\n",
       "      <th>n_estimators</th>\n",
       "      <th>auc</th>\n",
       "    </tr>\n",
       "  </thead>\n",
       "  <tbody>\n",
       "    <tr>\n",
       "      <th>8</th>\n",
       "      <td>1</td>\n",
       "      <td>170</td>\n",
       "      <td>0.999983</td>\n",
       "    </tr>\n",
       "  </tbody>\n",
       "</table>\n",
       "</div>"
      ],
      "text/plain": [
       "   min_samples_leaf  n_estimators       auc\n",
       "8                 1           170  0.999983"
      ]
     },
     "execution_count": 30,
     "metadata": {},
     "output_type": "execute_result"
    }
   ],
   "source": [
    "# Fix depth, let's select best n_estimators\n",
    "\n",
    "scores = []\n",
    "max_depth = 16\n",
    "\n",
    "for s in tqdm(range(1, 100, 5)):\n",
    "    for n in range(10, 201, 20):\n",
    "        classifier_rf_tune_scores = RandomForestClassifier(n_estimators=n, max_depth=max_depth, min_samples_leaf=s, random_state=config['seed'], n_jobs=-1)\n",
    "        classifier_rf_tune_scores.fit(X_train, y_train)\n",
    "        y_pred = classifier_rf_tune_scores.predict_proba(X_val)[:, 1]\n",
    "        auc = roc_auc_score(y_val, y_pred)\n",
    "        scores.append((s, n, auc))\n",
    "\n",
    "columns = ['min_samples_leaf', 'n_estimators', 'auc']\n",
    "classifier_rf_tune_scores = pd.DataFrame(scores, columns=columns)\n",
    "classifier_rf_tune_scores[classifier_rf_tune_scores.auc == classifier_rf_tune_scores.auc.max()]"
   ]
  },
  {
   "cell_type": "markdown",
   "id": "ccb78a82-a4ce-4269-af65-4fd39c8d5438",
   "metadata": {},
   "source": [
    "### Cross validation"
   ]
  },
  {
   "cell_type": "code",
   "execution_count": 50,
   "id": "7ca97767-3b00-448e-bc95-f041b79923fe",
   "metadata": {},
   "outputs": [
    {
     "name": "stdout",
     "output_type": "stream",
     "text": [
      "Random Forest Cross Validation:\n",
      "auc_scores:\t[0.9999866824701354, 0.9999865908603305, 0.9923382234726689, 0.9996084308880517, 0.9904676304529457]\n",
      "auc_mean:\t0.9964775116288266\n",
      "auc_std:\t0.004187671205865283\n"
     ]
    }
   ],
   "source": [
    "def train_rf_classifier(x, y, n_estimators=70, max_depth=11, min_samples_leaf=1):\n",
    "    vectorizer = DictVectorizer(sparse=False)\n",
    "    X = vectorizer.fit_transform(x.to_dict(orient='records'))\n",
    "\n",
    "    classifier = RandomForestClassifier(n_estimators=n_estimators, max_depth=max_depth, min_samples_leaf=s, random_state=config['seed'], n_jobs=-1)\n",
    "    classifier.fit(X, y)\n",
    "    return classifier\n",
    "\n",
    "def predict_rf_classifier(x, vectorizer, classifier):\n",
    "    X = vectorizer.transform(x.to_dict(orient='records'))\n",
    "    return classifier.predict_proba(X)[:, 1]\n",
    "\n",
    "def cross_validation_rf_classifier(df, n_folds=5, shuffle=True, random_state=config['seed']):\n",
    "    scores = []\n",
    "    kfold = KFold(n_splits=n_folds, shuffle=True, random_state=random_state)\n",
    "    \n",
    "    for t, v in kfold.split(df):\n",
    "        df_train = df.iloc[t]\n",
    "        df_validation = df.iloc[v]\n",
    "\n",
    "        y_train = df_train.hazardous.values\n",
    "        y_validation = df_validation.hazardous.values\n",
    "\n",
    "        del df_train['hazardous']\n",
    "        del df_validation['hazardous']\n",
    "\n",
    "        model = train_rf_classifier(df_train, y_train)\n",
    "        y_prediction = predict_rf_classifier(df_validation, vectorizer, model)\n",
    "\n",
    "        scores.append(roc_auc_score(y_validation, y_prediction))\n",
    "    \n",
    "    return scores, np.mean(scores), np.std(scores)\n",
    "\n",
    "scores, auc_mean, auc_std = cross_validation_rf_classifier(df_full_train)\n",
    "print(f'Random Forest Cross Validation:\\nauc_scores:\\t{scores}\\nauc_mean:\\t{auc_mean}\\nauc_std:\\t{auc_std}')\n"
   ]
  },
  {
   "cell_type": "markdown",
   "id": "4a4ba100-0553-4a1e-9d2c-4a0d568edd6e",
   "metadata": {},
   "source": [
    "#### Result"
   ]
  },
  {
   "cell_type": "code",
   "execution_count": 38,
   "id": "abfe8000-98d5-414c-b4bb-876d2db9367d",
   "metadata": {},
   "outputs": [
    {
     "data": {
      "text/plain": [
       "0.9999827996938346"
      ]
     },
     "execution_count": 38,
     "metadata": {},
     "output_type": "execute_result"
    }
   ],
   "source": [
    "model2 = RandomForestClassifier(n_estimators=70, max_depth=11, min_samples_leaf=1, random_state=config['seed'], n_jobs=-1)\n",
    "model2.fit(X_train, y_train)\n",
    "roc_auc_score(y_val, model2.predict_proba(X_val)[:, 1])"
   ]
  },
  {
   "cell_type": "markdown",
   "id": "8f31eed9-0a07-403a-8581-b76795876401",
   "metadata": {},
   "source": [
    "### Model3: Gradient Boosting model"
   ]
  },
  {
   "cell_type": "markdown",
   "id": "103e929a-c995-45b5-ba43-39e071cb4c50",
   "metadata": {},
   "source": [
    "#### Build"
   ]
  },
  {
   "cell_type": "code",
   "execution_count": 46,
   "id": "af850238-996f-48a0-b97f-97e0d3934bee",
   "metadata": {},
   "outputs": [
    {
     "name": "stdout",
     "output_type": "stream",
     "text": [
      "[13:32:24] WARNING: /var/folders/sy/f16zz6x50xz3113nwtb9bvq00000gp/T/abs_44tbtwf8c1/croots/recipe/xgboost-split_1659548960882/work/src/learner.cc:1115: Starting in XGBoost 1.3.0, the default evaluation metric used with the objective 'binary:logistic' was changed from 'error' to 'logloss'. Explicitly set eval_metric if you'd like to restore the old behavior.\n"
     ]
    },
    {
     "data": {
      "text/plain": [
       "0.9951280132786364"
      ]
     },
     "execution_count": 46,
     "metadata": {},
     "output_type": "execute_result"
    }
   ],
   "source": [
    "def parse_xgb_output(output):\n",
    "    results = []\n",
    "\n",
    "    for line in output.stdout.strip().split('\\n'):\n",
    "        it_line, train_line, val_line = line.split('\\t')\n",
    "\n",
    "        it = int(it_line.strip('[]'))\n",
    "        train = float(train_line.split(':')[1])\n",
    "        val = float(val_line.split(':')[1])\n",
    "\n",
    "        results.append((it, train, val))\n",
    "    \n",
    "    columns = ['num_iter', 'train_auc', 'val_auc']\n",
    "    df_results = pd.DataFrame(results, columns=columns)\n",
    "    return df_results\n",
    "\n",
    "features = vectorizer.get_feature_names()\n",
    "dtrain = xgb.DMatrix(X_train, label=y_train, feature_names=features)\n",
    "dval = xgb.DMatrix(X_val, label=y_val, feature_names=features)\n",
    "\n",
    "xgb_params = {\n",
    "    'eta': 0.3, \n",
    "    'max_depth': 6,\n",
    "    'min_child_weight': 1,    \n",
    "    'objective': 'binary:logistic',\n",
    "    'seed': config['seed'],\n",
    "    'verbosity': 1,\n",
    "}\n",
    "\n",
    "model = xgb.train(xgb_params, dtrain, num_boost_round=15)\n",
    "y_pred = model.predict(dval)\n",
    "roc_auc_score(y_val, y_pred)"
   ]
  },
  {
   "cell_type": "markdown",
   "id": "c5c760c6-0929-4cce-997c-d47fa9e63877",
   "metadata": {},
   "source": [
    "## Model selection"
   ]
  },
  {
   "cell_type": "code",
   "execution_count": 52,
   "id": "69bfbe67-194e-4c70-a104-885b510a8428",
   "metadata": {},
   "outputs": [],
   "source": [
    "# Lets' select random forest model based on roc_auc value"
   ]
  }
 ],
 "metadata": {
  "kernelspec": {
   "display_name": "Python 3 (ipykernel)",
   "language": "python",
   "name": "python3"
  },
  "language_info": {
   "codemirror_mode": {
    "name": "ipython",
    "version": 3
   },
   "file_extension": ".py",
   "mimetype": "text/x-python",
   "name": "python",
   "nbconvert_exporter": "python",
   "pygments_lexer": "ipython3",
   "version": "3.9.13"
  },
  "vscode": {
   "interpreter": {
    "hash": "96039a4818435225e81ba1765f2f51fbe6d0508583c2a47211dcf7951c421758"
   }
  }
 },
 "nbformat": 4,
 "nbformat_minor": 5
}
